{
 "cells": [
  {
   "cell_type": "markdown",
   "id": "709c6ab4-b34e-4ca2-9fc9-40780f99e908",
   "metadata": {},
   "source": [
    "# Emotion Recognition Using Convoluted Neural Network"
   ]
  },
  {
   "cell_type": "markdown",
   "id": "eec29b0b-658f-4741-b8c3-96b857d11991",
   "metadata": {},
   "source": [
    "By: Aurelius Justin Lim"
   ]
  },
  {
   "cell_type": "markdown",
   "id": "8d02b4be-a933-4ec0-9c58-612a541a642f",
   "metadata": {},
   "source": [
    "This notebook aims to create a CNN in order to recognition human emotions. The emotions to be experimented are anger, happiness, and sadness. To do this, the network is trained from a dataset taken from kaggle. A training, test and validation set is used to ensure the correctness and optimal performance of the model. Ultimately, the model created in the notebook is integrated into an application that allows users to upload a photo and allow the model to determine the illustrated emotion. \n",
    "\n",
    "**Human Face Emotions By SANIDHYAK**\n",
    "\n",
    "Reference: https://www.kaggle.com/datasets/sanidhyak/human-face-emotions?resource=download"
   ]
  }
 ],
 "metadata": {
  "kernelspec": {
   "display_name": "Python 3 (ipykernel)",
   "language": "python",
   "name": "python3"
  },
  "language_info": {
   "codemirror_mode": {
    "name": "ipython",
    "version": 3
   },
   "file_extension": ".py",
   "mimetype": "text/x-python",
   "name": "python",
   "nbconvert_exporter": "python",
   "pygments_lexer": "ipython3",
   "version": "3.9.12"
  }
 },
 "nbformat": 4,
 "nbformat_minor": 5
}
